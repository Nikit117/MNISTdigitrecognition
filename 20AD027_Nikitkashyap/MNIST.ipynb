{
 "cells": [
  {
   "cell_type": "markdown",
   "id": "bd6afa94",
   "metadata": {},
   "source": [
    "## Fetching Dataset"
   ]
  },
  {
   "cell_type": "code",
   "execution_count": 4,
   "id": "b91a3f35",
   "metadata": {},
   "outputs": [],
   "source": [
    "from sklearn.datasets import fetch_openml\n",
    "mnist = fetch_openml('mnist_784')"
   ]
  },
  {
   "cell_type": "code",
   "execution_count": 5,
   "id": "889c5f68",
   "metadata": {},
   "outputs": [],
   "source": [
    "x,y = mnist[\"data\"], mnist['target']"
   ]
  },
  {
   "cell_type": "code",
   "execution_count": 6,
   "id": "a7d66f9d",
   "metadata": {},
   "outputs": [
    {
     "data": {
      "text/plain": [
       "(70000, 784)"
      ]
     },
     "execution_count": 6,
     "metadata": {},
     "output_type": "execute_result"
    }
   ],
   "source": [
    "x.shape"
   ]
  },
  {
   "cell_type": "code",
   "execution_count": 7,
   "id": "b84af826",
   "metadata": {},
   "outputs": [
    {
     "data": {
      "text/plain": [
       "(70000,)"
      ]
     },
     "execution_count": 7,
     "metadata": {},
     "output_type": "execute_result"
    }
   ],
   "source": [
    "y.shape"
   ]
  },
  {
   "cell_type": "code",
   "execution_count": 8,
   "id": "91e1fb9e",
   "metadata": {},
   "outputs": [],
   "source": [
    "%matplotlib inline"
   ]
  },
  {
   "cell_type": "code",
   "execution_count": 9,
   "id": "bd0adf74",
   "metadata": {},
   "outputs": [],
   "source": [
    "import matplotlib\n",
    "import matplotlib.pyplot as plt"
   ]
  },
  {
   "cell_type": "code",
   "execution_count": 10,
   "id": "811dd341",
   "metadata": {},
   "outputs": [],
   "source": [
    "import numpy as np\n",
    "some_digit = np.array(x.iloc[36001])\n",
    "some_digit_image = some_digit.reshape(28,28)#lets reshape it to plot it"
   ]
  },
  {
   "cell_type": "code",
   "execution_count": 11,
   "id": "e1ba631c",
   "metadata": {},
   "outputs": [
    {
     "data": {
      "text/plain": [
       "(-0.5, 27.5, 27.5, -0.5)"
      ]
     },
     "execution_count": 11,
     "metadata": {},
     "output_type": "execute_result"
    },
    {
     "data": {
      "image/png": "[encoded data removed]",
      "text/plain": [
       "<Figure size 432x288 with 1 Axes>"
      ]
     },
     "metadata": {
      "needs_background": "light"
     },
     "output_type": "display_data"
    }
   ],
   "source": [
    "plt.imshow(some_digit_image, cmap=matplotlib.cm.binary, interpolation=\"nearest\")\n",
    "plt.axis(\"off\")"
   ]
  },
  {
   "cell_type": "code",
   "execution_count": 12,
   "id": "ddb2bca2",
   "metadata": {},
   "outputs": [
    {
     "data": {
      "text/plain": [
       "'2'"
      ]
     },
     "execution_count": 12,
     "metadata": {},
     "output_type": "execute_result"
    }
   ],
   "source": [
    "y[36001]"
   ]
  },
  {
   "cell_type": "code",
   "execution_count": 13,
   "id": "bc055807",
   "metadata": {},
   "outputs": [],
   "source": [
    "x_train, x_test = x[:60000], x[60000:70000]"
   ]
  },
  {
   "cell_type": "code",
   "execution_count": 14,
   "id": "152f0d9d",
   "metadata": {},
   "outputs": [],
   "source": [
    "y_train, y_test = y[:60000], y[60000:70000]"
   ]
  },
  {
   "cell_type": "code",
   "execution_count": 15,
   "id": "1708d156",
   "metadata": {},
   "outputs": [],
   "source": [
    "shuffle_index = np.random.permutation(60000)\n",
    "x_train = x_train.iloc[shuffle_index]\n",
    "y_train = y_train.iloc[shuffle_index]"
   ]
  },
  {
   "cell_type": "markdown",
   "id": "a3d70f78",
   "metadata": {},
   "source": [
    "## Creating a 2 detector"
   ]
  },
  {
   "cell_type": "code",
   "execution_count": 16,
   "id": "22c304b4",
   "metadata": {},
   "outputs": [],
   "source": [
    "y_train = y_train.astype(np.int8)\n",
    "y_test = y_test.astype(np.int8)\n",
    "y_train_2 = (y_train == 2)\n",
    "y_test_2 = (y_test == 2)"
   ]
  },
  {
   "cell_type": "code",
   "execution_count": 17,
   "id": "f2b51455",
   "metadata": {},
   "outputs": [
    {
     "data": {
      "text/plain": [
       "15343    8\n",
       "668      0\n",
       "12442    9\n",
       "10811    5\n",
       "21298    6\n",
       "        ..\n",
       "49652    5\n",
       "28845    5\n",
       "1678     0\n",
       "24488    6\n",
       "47980    6\n",
       "Name: class, Length: 60000, dtype: int8"
      ]
     },
     "execution_count": 17,
     "metadata": {},
     "output_type": "execute_result"
    }
   ],
   "source": [
    "y_train"
   ]
  },
  {
   "cell_type": "code",
   "execution_count": 18,
   "id": "6bbd1046",
   "metadata": {},
   "outputs": [],
   "source": [
    "from sklearn.linear_model import LogisticRegression"
   ]
  },
  {
   "cell_type": "code",
   "execution_count": 19,
   "id": "a80add7f",
   "metadata": {},
   "outputs": [],
   "source": [
    "clf = LogisticRegression(tol = 0.1)"
   ]
  },
  {
   "cell_type": "code",
   "execution_count": 20,
   "id": "5cf57528",
   "metadata": {},
   "outputs": [
    {
     "name": "stderr",
     "output_type": "stream",
     "text": [
      "C:\\Users\\nikit\\AppData\\Local\\Packages\\PythonSoftwareFoundation.Python.3.10_qbz5n2kfra8p0\\LocalCache\\local-packages\\Python310\\site-packages\\sklearn\\linear_model\\_logistic.py:814: ConvergenceWarning: lbfgs failed to converge (status=1):\n",
      "STOP: TOTAL NO. of ITERATIONS REACHED LIMIT.\n",
      "\n",
      "Increase the number of iterations (max_iter) or scale the data as shown in:\n",
      "    https://scikit-learn.org/stable/modules/preprocessing.html\n",
      "Please also refer to the documentation for alternative solver options:\n",
      "    https://scikit-learn.org/stable/modules/linear_model.html#logistic-regression\n",
      "  n_iter_i = _check_optimize_result(\n"
     ]
    },
    {
     "data": {
      "text/plain": [
       "LogisticRegression(tol=0.1)"
      ]
     },
     "execution_count": 20,
     "metadata": {},
     "output_type": "execute_result"
    }
   ],
   "source": [
    "clf.fit(x_train,y_train_2)"
   ]
  },
  {
   "cell_type": "code",
   "execution_count": 21,
   "id": "df790bf7",
   "metadata": {},
   "outputs": [
    {
     "name": "stderr",
     "output_type": "stream",
     "text": [
      "C:\\Users\\nikit\\AppData\\Local\\Packages\\PythonSoftwareFoundation.Python.3.10_qbz5n2kfra8p0\\LocalCache\\local-packages\\Python310\\site-packages\\sklearn\\base.py:450: UserWarning: X does not have valid feature names, but LogisticRegression was fitted with feature names\n",
      "  warnings.warn(\n"
     ]
    },
    {
     "data": {
      "text/plain": [
       "array([ True])"
      ]
     },
     "execution_count": 21,
     "metadata": {},
     "output_type": "execute_result"
    }
   ],
   "source": [
    "clf.predict([some_digit])"
   ]
  },
  {
   "cell_type": "code",
   "execution_count": 22,
   "id": "f6c055bc",
   "metadata": {},
   "outputs": [
    {
     "name": "stderr",
     "output_type": "stream",
     "text": [
      "C:\\Users\\nikit\\AppData\\Local\\Packages\\PythonSoftwareFoundation.Python.3.10_qbz5n2kfra8p0\\LocalCache\\local-packages\\Python310\\site-packages\\sklearn\\linear_model\\_logistic.py:814: ConvergenceWarning: lbfgs failed to converge (status=1):\n",
      "STOP: TOTAL NO. of ITERATIONS REACHED LIMIT.\n",
      "\n",
      "Increase the number of iterations (max_iter) or scale the data as shown in:\n",
      "    https://scikit-learn.org/stable/modules/preprocessing.html\n",
      "Please also refer to the documentation for alternative solver options:\n",
      "    https://scikit-learn.org/stable/modules/linear_model.html#logistic-regression\n",
      "  n_iter_i = _check_optimize_result(\n",
      "C:\\Users\\nikit\\AppData\\Local\\Packages\\PythonSoftwareFoundation.Python.3.10_qbz5n2kfra8p0\\LocalCache\\local-packages\\Python310\\site-packages\\sklearn\\linear_model\\_logistic.py:814: ConvergenceWarning: lbfgs failed to converge (status=1):\n",
      "STOP: TOTAL NO. of ITERATIONS REACHED LIMIT.\n",
      "\n",
      "Increase the number of iterations (max_iter) or scale the data as shown in:\n",
      "    https://scikit-learn.org/stable/modules/preprocessing.html\n",
      "Please also refer to the documentation for alternative solver options:\n",
      "    https://scikit-learn.org/stable/modules/linear_model.html#logistic-regression\n",
      "  n_iter_i = _check_optimize_result(\n",
      "C:\\Users\\nikit\\AppData\\Local\\Packages\\PythonSoftwareFoundation.Python.3.10_qbz5n2kfra8p0\\LocalCache\\local-packages\\Python310\\site-packages\\sklearn\\linear_model\\_logistic.py:814: ConvergenceWarning: lbfgs failed to converge (status=1):\n",
      "STOP: TOTAL NO. of ITERATIONS REACHED LIMIT.\n",
      "\n",
      "Increase the number of iterations (max_iter) or scale the data as shown in:\n",
      "    https://scikit-learn.org/stable/modules/preprocessing.html\n",
      "Please also refer to the documentation for alternative solver options:\n",
      "    https://scikit-learn.org/stable/modules/linear_model.html#logistic-regression\n",
      "  n_iter_i = _check_optimize_result(\n"
     ]
    }
   ],
   "source": [
    "from sklearn.model_selection import cross_val_score\n",
    "a = cross_val_score(clf, x_train , y_train_2, cv = 3, scoring=\"accuracy\")"
   ]
  },
  {
   "cell_type": "code",
   "execution_count": 23,
   "id": "1b7cd888",
   "metadata": {},
   "outputs": [
    {
     "data": {
      "text/plain": [
       "array([0.97775, 0.97955, 0.97735])"
      ]
     },
     "execution_count": 23,
     "metadata": {},
     "output_type": "execute_result"
    }
   ],
   "source": [
    "a"
   ]
  },
  {
   "cell_type": "code",
   "execution_count": 24,
   "id": "2794eccc",
   "metadata": {},
   "outputs": [
    {
     "data": {
      "text/plain": [
       "0.9782166666666666"
      ]
     },
     "execution_count": 24,
     "metadata": {},
     "output_type": "execute_result"
    }
   ],
   "source": [
    "a.mean()"
   ]
  },
  {
   "cell_type": "markdown",
   "id": "57d2aba5",
   "metadata": {},
   "source": [
    "## K-Nearest Neighbors"
   ]
  },
  {
   "cell_type": "code",
   "execution_count": 25,
   "id": "b053b458",
   "metadata": {},
   "outputs": [],
   "source": [
    "from sklearn.neighbors import KNeighborsClassifier\n",
    "from sklearn.metrics import confusion_matrix, accuracy_score\n",
    "import numpy as np\n",
    "import pandas as pd"
   ]
  },
  {
   "cell_type": "code",
   "execution_count": 26,
   "id": "5a024d1e",
   "metadata": {},
   "outputs": [],
   "source": [
    "x_train = x_train.to_numpy()\n",
    "x_test = x_test.to_numpy()\n",
    "y_test = y_test.to_numpy()\n",
    "y_train = y_train.to_numpy()"
   ]
  },
  {
   "cell_type": "code",
   "execution_count": 27,
   "metadata": {},
   "outputs": [
    {
     "name": "stdout",
     "output_type": "stream",
     "text": [
      "Begin KNN with k= 1\n",
      "Accuracy:  0.9691\n",
      "Confusion Matrix:\n",
      " [[ 973    1    1    0    0    1    3    1    0    0]\n",
      " [   0 1129    3    0    1    1    1    0    0    0]\n",
      " [   7    6  992    5    1    0    2   16    3    0]\n",
      " [   0    1    2  970    1   19    0    7    7    3]\n",
      " [   0    7    0    0  944    0    3    5    1   22]\n",
      " [   1    1    0   12    2  860    5    1    6    4]\n",
      " [   4    2    0    0    3    5  944    0    0    0]\n",
      " [   0   14    6    2    4    0    0  992    0   10]\n",
      " [   6    1    3   14    5   13    3    4  920    5]\n",
      " [   2    5    1    6   10    5    1   11    1  967]]\n",
      "\n",
      "---------------\n",
      "\n",
      "Begin KNN with k= 2\n",
      "Accuracy:  0.9627\n",
      "Confusion Matrix:\n",
      " [[ 976    1    1    0    0    1    0    1    0    0]\n",
      " [   0 1133    2    0    0    0    0    0    0    0]\n",
      " [  11   10  995    1    2    0    0   12    1    0]\n",
      " [   1    1    8  981    1    9    0    6    2    1]\n",
      " [   3    7    0    0  959    0    2    3    0    8]\n",
      " [   6    2    0   25    2  850    2    1    1    3]\n",
      " [   7    3    0    0    5    4  939    0    0    0]\n",
      " [   0   29    8    2    3    0    0  981    0    5]\n",
      " [  10    2    8   28    9   29    4    5  876    3]\n",
      " [   6    6    3    9   19    4    1   22    2  937]]\n",
      "\n",
      "---------------\n",
      "\n",
      "Begin KNN with k= 3\n",
      "Accuracy:  0.9705\n",
      "Confusion Matrix:\n",
      " [[ 974    1    1    0    0    1    2    1    0    0]\n",
      " [   0 1133    2    0    0    0    0    0    0    0]\n",
      " [  10    9  996    2    0    0    0   13    2    0]\n",
      " [   0    2    4  976    1   13    1    7    3    3]\n",
      " [   1    6    0    0  950    0    4    2    0   19]\n",
      " [   6    1    0   11    2  859    5    1    3    4]\n",
      " [   5    3    0    0    3    3  944    0    0    0]\n",
      " [   0   21    5    0    1    0    0  991    0   10]\n",
      " [   8    2    4   16    8   11    3    4  914    4]\n",
      " [   4    5    2    8    9    2    1    8    2  968]]\n",
      "\n",
      "---------------\n",
      "\n",
      "Begin KNN with k= 4\n",
      "Accuracy:  0.9682\n",
      "Confusion Matrix:\n",
      " [[ 976    1    1    0    0    1    0    1    0    0]\n",
      " [   0 1133    2    0    0    0    0    0    0    0]\n",
      " [  11    8  993    1    1    0    0   16    2    0]\n",
      " [   0    2    5  979    1   10    1    7    2    3]\n",
      " [   3    9    0    0  952    0    4    1    0   13]\n",
      " [   4    0    0   17    2  862    5    1    0    1]\n",
      " [   6    3    0    0    4    3  942    0    0    0]\n",
      " [   0   23    5    0    5    0    0  988    0    7]\n",
      " [   9    3    5   16    6   19    5    5  902    4]\n",
      " [   4    6    3    6   13    4    1   16    1  955]]\n",
      "\n",
      "---------------\n",
      "\n",
      "Begin KNN with k= 5\n",
      "Accuracy:  0.9688\n",
      "Confusion Matrix:\n",
      " [[ 974    1    1    0    0    1    2    1    0    0]\n",
      " [   0 1133    2    0    0    0    0    0    0    0]\n",
      " [  11    8  991    2    1    0    1   15    3    0]\n",
      " [   0    3    3  976    1   13    1    6    3    4]\n",
      " [   3    7    0    0  944    0    4    2    1   21]\n",
      " [   5    0    0   12    2  862    4    1    2    4]\n",
      " [   5    3    0    0    3    2  945    0    0    0]\n",
      " [   0   22    4    0    3    0    0  988    0   11]\n",
      " [   8    3    5   13    6   12    5    5  913    4]\n",
      " [   5    7    3    9    7    3    1   10    2  962]]\n",
      "\n",
      "---------------\n",
      "\n",
      "Begin KNN with k= 6\n",
      "Accuracy:  0.9677\n",
      "Confusion Matrix:\n",
      " [[ 975    1    1    0    0    1    1    1    0    0]\n",
      " [   0 1132    2    0    0    0    1    0    0    0]\n",
      " [  12   11  985    2    1    0    2   15    4    0]\n",
      " [   0    3    3  978    1   10    1    8    3    3]\n",
      " [   2    7    0    0  953    0    4    1    1   14]\n",
      " [   6    0    0   14    2  862    3    1    1    3]\n",
      " [   6    4    0    0    3    2  943    0    0    0]\n",
      " [   0   26    4    0    2    0    0  987    0    9]\n",
      " [   7    4    5   16    8   12    5    6  906    5]\n",
      " [   6    7    3    7   12    3    1   12    2  956]]\n",
      "\n",
      "---------------\n",
      "\n",
      "Begin KNN with k= 7\n",
      "Accuracy:  0.9694\n",
      "Confusion Matrix:\n",
      " [[ 974    1    1    0    0    1    2    1    0    0]\n",
      " [   0 1133    2    0    0    0    0    0    0    0]\n",
      " [  11    8  988    2    1    0    2   16    4    0]\n",
      " [   0    3    2  976    1   12    1    7    4    4]\n",
      " [   1    8    0    0  945    0    5    1    1   21]\n",
      " [   5    0    0    8    2  866    4    1    2    4]\n",
      " [   6    3    0    0    3    2  944    0    0    0]\n",
      " [   0   25    3    0    1    0    0  989    0   10]\n",
      " [   6    4    6   11    7   12    1    6  916    5]\n",
      " [   5    6    3    6    8    4    1   11    2  963]]\n",
      "\n",
      "---------------\n",
      "\n",
      "Begin KNN with k= 8\n",
      "Accuracy:  0.967\n",
      "Confusion Matrix:\n",
      " [[ 973    1    1    0    0    1    3    1    0    0]\n",
      " [   0 1132    2    0    0    0    1    0    0    0]\n",
      " [  13   14  980    2    1    0    2   16    4    0]\n",
      " [   0    3    2  976    1   12    1    7    4    4]\n",
      " [   2   11    0    0  943    0    5    1    1   19]\n",
      " [   5    0    0    9    2  868    4    1    1    2]\n",
      " [   6    4    0    0    3    2  943    0    0    0]\n",
      " [   0   28    4    0    2    0    0  985    0    9]\n",
      " [   6    5    4   14    8   13    3    7  910    4]\n",
      " [   7    7    2    7   11    3    1    9    2  960]]\n",
      "\n",
      "---------------\n",
      "\n"
     ]
    }
   ],
   "source": [
    "score = []\n",
    "\n",
    "for k in range(1, 9):\n",
    "  print('Begin KNN with k=',k)\n",
    "  classifier = KNeighborsClassifier(n_neighbors=k)\n",
    "  classifier = classifier.fit(x_train.reshape(x_train.shape[0], 28*28), y_train)\n",
    "  pred = classifier.predict(x_test.reshape(x_test.shape[0], 28*28))\n",
    "  accuracy = accuracy_score(y_test, pred)\n",
    "  score.append(accuracy)\n",
    "  print(\"Accuracy: \",accuracy)\n",
    "  print(\"Confusion Matrix:\\n\", confusion_matrix(y_test, pred))\n",
    "  print(\"\\n---------------\\n\")"
   ]
  },
  {
   "cell_type": "code",
   "execution_count": 28,
   "metadata": {},
   "outputs": [
    {
     "data": {
      "image/png": "[encoded data removed]",
      "text/plain": [
       "<Figure size 432x288 with 1 Axes>"
      ]
     },
     "metadata": {
      "needs_background": "light"
     },
     "output_type": "display_data"
    }
   ],
   "source": [
    "plt.plot(range(1,9), score)\n",
    "plt.title('Determining the Optimal Number of Neighbors')\n",
    "plt.xlabel('K - Number of Neighbors')\n",
    "plt.ylabel('Accuracy')\n",
    "plt.show()"
   ]
  },
  {
   "cell_type": "markdown",
   "id": "e55a9cc8",
   "metadata": {},
   "source": [
    "## Testing the model"
   ]
  },
  {
   "cell_type": "code",
   "execution_count": 29,
   "id": "dae23d52",
   "metadata": {},
   "outputs": [],
   "source": [
    "x = x.to_numpy()\n",
    "y = y.to_numpy()"
   ]
  },
  {
   "cell_type": "code",
   "execution_count": 30,
   "id": "9e71adc6",
   "metadata": {},
   "outputs": [
    {
     "name": "stdout",
     "output_type": "stream",
     "text": [
      "Training the Model\n",
      "Wall time: 12.6 s\n"
     ]
    }
   ],
   "source": [
    "%%time\n",
    "print('Training the Model')\n",
    "classifier = KNeighborsClassifier(n_neighbors=3)\n",
    "classifier = classifier.fit(x.reshape(x.shape[0], 28*28), y)"
   ]
  },
  {
   "cell_type": "code",
   "execution_count": 31,
   "id": "90d0cf91",
   "metadata": {},
   "outputs": [
    {
     "name": "stdout",
     "output_type": "stream",
     "text": [
      "Wall time: 53.9 s\n"
     ]
    }
   ],
   "source": [
    "%%time\n",
    "y_pred = classifier.predict(x_test.reshape(x_test.shape[0], 28*28))"
   ]
  },
  {
   "cell_type": "code",
   "execution_count": 32,
   "id": "9cb46b09",
   "metadata": {},
   "outputs": [],
   "source": [
    "y_pred = y_pred.astype(np.int32)"
   ]
  },
  {
   "cell_type": "code",
   "execution_count": 33,
   "id": "ef0d0bc2",
   "metadata": {},
   "outputs": [
    {
     "name": "stdout",
     "output_type": "stream",
     "text": [
      "[[ 977    1    1    0    0    0    0    1    0    0]\n",
      " [   0 1133    2    0    0    0    0    0    0    0]\n",
      " [   4    2 1016    0    0    0    1    8    1    0]\n",
      " [   1    0    1 1000    0    4    0    4    0    0]\n",
      " [   0    3    0    0  968    0    3    2    0    6]\n",
      " [   2    0    0    3    1  880    2    1    1    2]\n",
      " [   4    2    0    0    2    2  948    0    0    0]\n",
      " [   0   10    4    1    0    0    0 1009    0    4]\n",
      " [   4    0    3    8    3    6    2    2  944    2]\n",
      " [   2    1    0    3    4    3    1    4    0  991]]\n",
      "0.9866\n"
     ]
    }
   ],
   "source": [
    "print(confusion_matrix(y_test, y_pred))\n",
    "print(accuracy_score(y_test, y_pred))"
   ]
  },
  {
   "cell_type": "code",
   "execution_count": 34,
   "id": "7c5b6734",
   "metadata": {},
   "outputs": [
    {
     "data": {
      "text/plain": [
       "'              precision    recall  f1-score   support\\n\\n           0       1.00      0.98      0.99       994\\n           1       1.00      0.98      0.99      1152\\n           2       0.98      0.99      0.99      1027\\n           3       0.99      0.99      0.99      1015\\n           4       0.99      0.99      0.99       978\\n           5       0.99      0.98      0.98       895\\n           6       0.99      0.99      0.99       957\\n           7       0.98      0.98      0.98      1031\\n           8       0.97      1.00      0.98       946\\n           9       0.98      0.99      0.98      1005\\n\\n    accuracy                           0.99     10000\\n   macro avg       0.99      0.99      0.99     10000\\nweighted avg       0.99      0.99      0.99     10000\\n'"
      ]
     },
     "execution_count": 34,
     "metadata": {},
     "output_type": "execute_result"
    }
   ],
   "source": [
    "from sklearn.metrics import classification_report\n",
    "classification_report(y_pred, y_test)"
   ]
  },
  {
   "cell_type": "markdown",
   "id": "7aad0555",
   "metadata": {},
   "source": [
    "## SVM Classification"
   ]
  },
  {
   "cell_type": "code",
   "execution_count": 37,
   "id": "e262e192",
   "metadata": {},
   "outputs": [],
   "source": [
    "from sklearn.svm import SVC\n",
    "classifier2 = SVC()"
   ]
  },
  {
   "cell_type": "code",
   "execution_count": 39,
   "id": "fea6a877",
   "metadata": {},
   "outputs": [],
   "source": [
    "y_pred2 = classifier2.predict(x_test.reshape(x_test.shape[0],28*28))\n",
    "classifier2 = classifier2.fit(x.reshape(x.shape[0], 28*28), y)"
   ]
  },
  {
   "cell_type": "markdown",
   "id": "983d302e",
   "metadata": {},
   "source": [
    "## Predict"
   ]
  },
  {
   "cell_type": "code",
   "execution_count": 45,
   "id": "a9dc0a2d",
   "metadata": {},
   "outputs": [
    {
     "name": "stdout",
     "output_type": "stream",
     "text": [
      "              precision    recall  f1-score   support\n",
      "\n",
      "           0       0.99      0.99      0.99       980\n",
      "           1       0.99      1.00      1.00      1135\n",
      "           2       0.99      0.99      0.99      1032\n",
      "           3       0.99      0.99      0.99      1010\n",
      "           4       0.99      0.99      0.99       982\n",
      "           5       0.99      0.99      0.99       892\n",
      "           6       1.00      0.99      0.99       958\n",
      "           7       0.99      0.99      0.99      1028\n",
      "           8       0.99      0.99      0.99       974\n",
      "           9       0.99      0.98      0.98      1009\n",
      "\n",
      "    accuracy                           0.99     10000\n",
      "   macro avg       0.99      0.99      0.99     10000\n",
      "weighted avg       0.99      0.99      0.99     10000\n",
      "\n"
     ]
    }
   ],
   "source": [
    "y_pred2 = y_pred2.astype(np.int32)\n",
    "print(classification_report(y_test, y_pred2))"
   ]
  },
  {
   "cell_type": "code",
   "execution_count": 46,
   "id": "ca7fc94a",
   "metadata": {},
   "outputs": [
    {
     "data": {
      "text/plain": [
       "array([[ 975,    0,    1,    0,    0,    1,    0,    1,    2,    0],\n",
       "       [   0, 1133,    0,    0,    0,    1,    0,    0,    1,    0],\n",
       "       [   1,    0, 1024,    0,    1,    0,    0,    4,    2,    0],\n",
       "       [   0,    0,    0, 1002,    0,    2,    0,    3,    3,    0],\n",
       "       [   0,    0,    0,    0,  975,    0,    1,    0,    0,    6],\n",
       "       [   2,    0,    0,    2,    0,  885,    2,    0,    0,    1],\n",
       "       [   2,    2,    0,    0,    2,    2,  949,    0,    1,    0],\n",
       "       [   0,    4,    4,    1,    0,    0,    0, 1015,    0,    4],\n",
       "       [   0,    0,    2,    2,    1,    2,    1,    1,  965,    0],\n",
       "       [   1,    3,    0,    4,    8,    2,    0,    3,    0,  988]],\n",
       "      dtype=int64)"
      ]
     },
     "execution_count": 46,
     "metadata": {},
     "output_type": "execute_result"
    }
   ],
   "source": [
    "confusion_matrix(y_test, y_pred2)"
   ]
  },
  {
   "cell_type": "markdown",
   "id": "74b9c6ef",
   "metadata": {},
   "source": [
    "## Results"
   ]
  },
  {
   "cell_type": "markdown",
   "id": "da2a3d8e",
   "metadata": {},
   "source": [
    "KNN Model with 3 neighbors performed really well with 98.66% accuracy."
   ]
  },
  {
   "cell_type": "code",
   "execution_count": 35,
   "id": "c91af524",
   "metadata": {},
   "outputs": [
    {
     "data": {
      "text/plain": [
       "['knn_model.gzip']"
      ]
     },
     "execution_count": 35,
     "metadata": {},
     "output_type": "execute_result"
    }
   ],
   "source": [
    "import joblib\n",
    "\n",
    "joblib.dump(classifier, 'knn_model.gzip', compress=('gzip',3))"
   ]
  },
  {
   "cell_type": "code",
   "execution_count": 50,
   "id": "25bc3498",
   "metadata": {},
   "outputs": [
    {
     "data": {
      "text/plain": [
       "['SVC_model.gzip']"
      ]
     },
     "execution_count": 50,
     "metadata": {},
     "output_type": "execute_result"
    }
   ],
   "source": [
    "joblib.dump(classifier2, 'SVC_model.gzip', compress=('gzip',3))"
   ]
  },
  {
   "cell_type": "code",
   "execution_count": null,
   "id": "4a48dfdd",
   "metadata": {},
   "outputs": [],
   "source": []
  }
 ],
 "metadata": {
  "kernelspec": {
   "display_name": "Python 3 (ipykernel)",
   "language": "python",
   "name": "python3"
  },
  "language_info": {
   "codemirror_mode": {
    "name": "ipython",
    "version": 3
   },
   "file_extension": ".py",
   "mimetype": "text/x-python",
   "name": "python",
   "nbconvert_exporter": "python",
   "pygments_lexer": "ipython3",
   "version": "3.10.2"
  }
 },
 "nbformat": 4,
 "nbformat_minor": 5
}
